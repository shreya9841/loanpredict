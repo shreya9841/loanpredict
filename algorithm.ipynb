{
 "cells": [
  {
   "cell_type": "code",
   "execution_count": 7,
   "id": "fae3e6a5-d0a3-49ce-a25f-9ad2edc89793",
   "metadata": {},
   "outputs": [],
   "source": [
    "import pandas as pd\n",
    "import numpy as np\n",
    "import random\n",
    "from sklearn.model_selection import train_test_split\n",
    "from scipy import stats\n"
   ]
  },
  {
   "cell_type": "code",
   "execution_count": 8,
   "id": "731ed9de-8a40-4048-9e70-df77e51b805a",
   "metadata": {},
   "outputs": [],
   "source": [
    "data = pd.read_csv(\"C://Users//user//Desktop//7sem//LoanApproval//again_cleaned_loan_data.csv\")\n"
   ]
  },
  {
   "cell_type": "code",
   "execution_count": 9,
   "id": "67698839-ddf6-46c5-82a3-d3f1df574b4d",
   "metadata": {},
   "outputs": [],
   "source": [
    "# features and target \n",
    "X = data.drop(\"Loan_Status\", axis=1)\n",
    "y = data[\"Loan_Status\"]\n"
   ]
  },
  {
   "cell_type": "code",
   "execution_count": 10,
   "id": "18cb2a82-cee5-427d-82a1-56c88eddd327",
   "metadata": {},
   "outputs": [],
   "source": [
    "#Split \n",
    "X_train, X_test, y_train, y_test = train_test_split(X, y, test_size=0.2, random_state=42)\n"
   ]
  },
  {
   "cell_type": "code",
   "execution_count": 11,
   "id": "053d4ce6-2a1e-42b8-b569-655a4dadaee7",
   "metadata": {},
   "outputs": [],
   "source": [
    "# TreeNode \n",
    "class TreeNode:\n",
    "    def __init__(self, predicted_class):\n",
    "        self.predicted_class = predicted_class\n",
    "        self.feature_index = None\n",
    "        self.threshold = None\n",
    "        self.left = None\n",
    "        self.right = None\n"
   ]
  },
  {
   "cell_type": "code",
   "execution_count": 12,
   "id": "ea07592e-20a2-46b8-b907-475f3f1ab80c",
   "metadata": {},
   "outputs": [],
   "source": [
    "class DecisionTree:\n",
    "    def __init__(self, max_depth=None, max_features=None, random_state=None):\n",
    "        self.max_depth = max_depth\n",
    "        self.max_features = max_features\n",
    "        self.random_state = random_state\n",
    "        self.root = None\n",
    "\n",
    "    def fit(self, X, y):\n",
    "        if isinstance(X, pd.DataFrame): X = X.values\n",
    "        if isinstance(y, pd.Series): y = y.values\n",
    "        self.n_classes = len(set(y))\n",
    "        self.n_features = X.shape[1]\n",
    "        if self.max_features is None:\n",
    "            self.max_features = self.n_features\n",
    "        elif isinstance(self.max_features, float):\n",
    "            self.max_features = int(self.max_features * self.n_features)\n",
    "        self.root = self._grow_tree(X, y, depth=0)\n",
    "\n",
    "    def _gini(self, y):\n",
    "        m = len(y)\n",
    "        return 1 - sum((np.sum(y == c) / m) ** 2 for c in range(self.n_classes))\n",
    "\n",
    "    def _best_split(self, X, y):\n",
    "        best_gini = 1.0\n",
    "        best_index, best_threshold = None, None\n",
    "        features = random.sample(range(self.n_features), self.max_features)\n",
    "        for idx in features:\n",
    "            thresholds = np.unique(X[:, idx])\n",
    "            for i in range(1, len(thresholds)):\n",
    "                thr = (thresholds[i-1] + thresholds[i]) / 2\n",
    "                left, right = y[X[:, idx] < thr], y[X[:, idx] >= thr]\n",
    "                if len(left) == 0 or len(right) == 0:\n",
    "                    continue\n",
    "                gini = (len(left)/len(y))*self._gini(left) + (len(right)/len(y))*self._gini(right)\n",
    "                if gini < best_gini:\n",
    "                    best_gini = gini\n",
    "                    best_index = idx\n",
    "                    best_threshold = thr\n",
    "        return best_index, best_threshold\n",
    "\n",
    "    def _grow_tree(self, X, y, depth):\n",
    "        class_counts = [np.sum(y == i) for i in range(self.n_classes)]\n",
    "        predicted_class = np.argmax(class_counts)\n",
    "        node = TreeNode(predicted_class)\n",
    "        if self.max_depth is None or depth < self.max_depth:\n",
    "            index, threshold = self._best_split(X, y)\n",
    "            if index is not None:\n",
    "                mask = X[:, index] < threshold\n",
    "                node.feature_index = index\n",
    "                node.threshold = threshold\n",
    "                node.left = self._grow_tree(X[mask], y[mask], depth + 1)\n",
    "                node.right = self._grow_tree(X[~mask], y[~mask], depth + 1)\n",
    "        return node\n",
    "\n",
    "    def _predict_single(self, x):\n",
    "        node = self.root\n",
    "        while node.left:\n",
    "            if x[node.feature_index] < node.threshold:\n",
    "                node = node.left\n",
    "            else:\n",
    "                node = node.right\n",
    "        return node.predicted_class\n",
    "\n",
    "    def predict(self, X):\n",
    "        if isinstance(X, pd.DataFrame): X = X.values\n",
    "        return np.array([self._predict_single(row) for row in X])\n"
   ]
  },
  {
   "cell_type": "code",
   "execution_count": 13,
   "id": "8853833d-7c50-4573-96c6-298b34df9293",
   "metadata": {},
   "outputs": [],
   "source": [
    "class RandomForest:\n",
    "    def __init__(self, n_trees=10, max_depth=None, max_features=None, subsample_size=1.0, bootstrap=True, random_state=None):\n",
    "        self.n_trees = n_trees\n",
    "        self.max_depth = max_depth\n",
    "        self.max_features = max_features\n",
    "        self.subsample_size = subsample_size\n",
    "        self.bootstrap = bootstrap\n",
    "        self.random_state = random_state\n",
    "        self.trees = []\n",
    "\n",
    "    def _sample(self, X, y):\n",
    "        if not isinstance(X, np.ndarray): X = np.array(X)\n",
    "        if not isinstance(y, np.ndarray): y = np.array(y)\n",
    "        n_samples = int(len(X) * self.subsample_size)\n",
    "        indices = np.random.choice(len(X), n_samples, replace=self.bootstrap)\n",
    "        return X[indices], y[indices]\n",
    "\n",
    "    def fit(self, X, y):\n",
    "        self.trees = []\n",
    "        for i in range(self.n_trees):\n",
    "            if self.random_state is not None:\n",
    "                np.random.seed(self.random_state + i)\n",
    "            tree = DecisionTree(max_depth=self.max_depth, max_features=self.max_features)\n",
    "            X_sample, y_sample = self._sample(X, y)\n",
    "            tree.fit(X_sample, y_sample)\n",
    "            self.trees.append(tree)\n",
    "\n",
    "    def predict(self, X):\n",
    "        predictions = np.array([tree.predict(X) for tree in self.trees])\n",
    "        return stats.mode(predictions, axis=0)[0].flatten()"
   ]
  },
  {
   "cell_type": "code",
   "execution_count": 18,
   "id": "3fcc74dc-07ed-42a7-87dc-7259774e1da6",
   "metadata": {},
   "outputs": [],
   "source": [
    "# Convert labels\n",
    "y_trainData = y_train.values\n",
    "y_testData = y_test.values\n"
   ]
  },
  {
   "cell_type": "code",
   "execution_count": null,
   "id": "e3100c4b-5dac-4106-a006-2ef1a71a2548",
   "metadata": {},
   "outputs": [],
   "source": [
    "# Train Random Forest using custom Decision Tree\n",
    "clf = RandomForest(n_trees=20, max_depth=5, random_state=42)\n",
    "clf.fit(X_train, y_trainData)"
   ]
  },
  {
   "cell_type": "code",
   "execution_count": 20,
   "id": "24dd3791-b99a-4d71-a95b-5d04d71f6eca",
   "metadata": {},
   "outputs": [],
   "source": [
    "# Predict\n",
    "predictions = clf.predict(X_test)"
   ]
  },
  {
   "cell_type": "code",
   "execution_count": 21,
   "id": "fc048081-65f6-460f-8553-a96a3ca70c70",
   "metadata": {},
   "outputs": [
    {
     "name": "stdout",
     "output_type": "stream",
     "text": [
      "Accuracy: 0.7805\n",
      "Precision: 0.7573\n",
      "Recall: 0.9750\n",
      "F1 Score: 0.8525\n"
     ]
    }
   ],
   "source": [
    "from sklearn.metrics import accuracy_score, precision_score, recall_score, f1_score\n",
    "# Evaluate\n",
    "def evaluate_performance(y_true, y_pred):\n",
    "    acc = accuracy_score(y_true, y_pred)\n",
    "    precision = precision_score(y_true, y_pred)\n",
    "    recall = recall_score(y_true, y_pred)\n",
    "    f1 = f1_score(y_true, y_pred)\n",
    "    return acc, precision, recall, f1\n",
    "\n",
    "acc, precision, recall, f1 = evaluate_performance(y_testData, predictions)\n",
    "\n",
    "print(f\"Accuracy: {acc:.4f}\")\n",
    "print(f\"Precision: {precision:.4f}\")\n",
    "print(f\"Recall: {recall:.4f}\")\n",
    "print(f\"F1 Score: {f1:.4f}\")"
   ]
  },
  {
   "cell_type": "code",
   "execution_count": 22,
   "id": "8bb83290-07fb-454a-b73b-5290aff35a18",
   "metadata": {},
   "outputs": [],
   "source": [
    "import pickle\n",
    "\n",
    "# Save the trained model\n",
    "with open(\"loan_model.pkl\", \"wb\") as f:\n",
    "    pickle.dump(clf, f)\n",
    "\n",
    "# Save the feature names (column order is important)\n",
    "with open(\"features.pkl\", \"wb\") as f:\n",
    "    pickle.dump(X.columns.tolist(), f)\n"
   ]
  },
  {
   "cell_type": "code",
   "execution_count": null,
   "id": "a841732e-b35c-4a99-a408-d4d531f2b2e0",
   "metadata": {},
   "outputs": [],
   "source": []
  }
 ],
 "metadata": {
  "kernelspec": {
   "display_name": "Python [conda env:base] *",
   "language": "python",
   "name": "conda-base-py"
  },
  "language_info": {
   "codemirror_mode": {
    "name": "ipython",
    "version": 3
   },
   "file_extension": ".py",
   "mimetype": "text/x-python",
   "name": "python",
   "nbconvert_exporter": "python",
   "pygments_lexer": "ipython3",
   "version": "3.12.7"
  }
 },
 "nbformat": 4,
 "nbformat_minor": 5
}
